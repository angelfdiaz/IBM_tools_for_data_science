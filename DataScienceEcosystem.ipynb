{
 "cells": [
  {
   "cell_type": "markdown",
   "id": "e9435835",
   "metadata": {},
   "source": [
    "# Data Science Tools and Ecosystem"
   ]
  },
  {
   "cell_type": "markdown",
   "id": "a66c1e51",
   "metadata": {},
   "source": [
    "# In this notebook, Data Science Tools and Ecosystem are summarized."
   ]
  },
  {
   "cell_type": "markdown",
   "id": "8cf18c80",
   "metadata": {},
   "source": [
    "#Objectives:\n",
    "\n",
    "* Data Science Librabries\n",
    "* Arithmetic Expression\n",
    "* Data Science Languages"
   ]
  },
  {
   "cell_type": "markdown",
   "id": "3eee7efa",
   "metadata": {},
   "source": [
    "# Some of the popular languages that Data Scientists use are:"
   ]
  },
  {
   "cell_type": "code",
   "execution_count": 3,
   "id": "598fb2e9",
   "metadata": {},
   "outputs": [
    {
     "data": {
      "text/plain": [
       "['Python', 'R', 'SQL']"
      ]
     },
     "execution_count": 3,
     "metadata": {},
     "output_type": "execute_result"
    }
   ],
   "source": [
    "popular_ds_languages = [\"Python\", \"R\", \"SQL\"]\n",
    "\n",
    "popular_ds_languages"
   ]
  },
  {
   "cell_type": "markdown",
   "id": "2ef40ec7",
   "metadata": {},
   "source": [
    "# Some of the commonly used libraries used by Data Scientists include:"
   ]
  },
  {
   "cell_type": "code",
   "execution_count": 5,
   "id": "42e8aed9",
   "metadata": {},
   "outputs": [
    {
     "data": {
      "text/plain": [
       "['Numpy', 'Pandas', 'Matplotlib']"
      ]
     },
     "execution_count": 5,
     "metadata": {},
     "output_type": "execute_result"
    }
   ],
   "source": [
    "common_ds_libraries = [\"Numpy\", \"Pandas\", \"Matplotlib\"]\n",
    "common_ds_libraries"
   ]
  },
  {
   "cell_type": "markdown",
   "id": "a160f796",
   "metadata": {},
   "source": [
    "| Data Science Tools | Jupyter Notebook | VS Code | R Studio |\n",
    "| -------------------|------------------|---------|----------|\n",
    "\n"
   ]
  },
  {
   "cell_type": "markdown",
   "id": "30fe2d2d",
   "metadata": {},
   "source": [
    "### Below are a few examples of evaluating arithmetic expressions in Python"
   ]
  },
  {
   "cell_type": "code",
   "execution_count": 10,
   "id": "050a7bce",
   "metadata": {},
   "outputs": [
    {
     "data": {
      "text/plain": [
       "4.0"
      ]
     },
     "execution_count": 10,
     "metadata": {},
     "output_type": "execute_result"
    }
   ],
   "source": [
    "2 + 3\n"
   ]
  },
  {
   "cell_type": "code",
   "execution_count": 11,
   "id": "302d3b57",
   "metadata": {},
   "outputs": [
    {
     "data": {
      "text/plain": [
       "3"
      ]
     },
     "execution_count": 11,
     "metadata": {},
     "output_type": "execute_result"
    }
   ],
   "source": [
    "7 - 4"
   ]
  },
  {
   "cell_type": "code",
   "execution_count": 12,
   "id": "d2dc47e2",
   "metadata": {},
   "outputs": [
    {
     "data": {
      "text/plain": [
       "50"
      ]
     },
     "execution_count": 12,
     "metadata": {},
     "output_type": "execute_result"
    }
   ],
   "source": [
    "10 * 5"
   ]
  },
  {
   "cell_type": "code",
   "execution_count": 18,
   "id": "121555b4",
   "metadata": {},
   "outputs": [
    {
     "data": {
      "text/plain": [
       "2"
      ]
     },
     "execution_count": 18,
     "metadata": {},
     "output_type": "execute_result"
    }
   ],
   "source": [
    "12 % 5"
   ]
  },
  {
   "cell_type": "code",
   "execution_count": 1,
   "id": "1c44035d",
   "metadata": {},
   "outputs": [
    {
     "data": {
      "text/plain": [
       "17"
      ]
     },
     "execution_count": 1,
     "metadata": {},
     "output_type": "execute_result"
    }
   ],
   "source": [
    "(3*4)+5\n",
    "\n",
    "# This a simple arithmetic expression to mutiply then add integers."
   ]
  },
  {
   "cell_type": "code",
   "execution_count": 23,
   "id": "d64af5ad",
   "metadata": {},
   "outputs": [
    {
     "name": "stdout",
     "output_type": "stream",
     "text": [
      "3:20\n"
     ]
    }
   ],
   "source": [
    "minutes = 200\n",
    "hours = minutes // 60 \n",
    "minutes_remain = minutes % 60\n",
    "full_time = str(hours)+ \":\" + str(minutes_remain)\n",
    "print(full_time)\n",
    "#This will convert 200 minutes to hours by diving by 60"
   ]
  },
  {
   "cell_type": "markdown",
   "id": "a6fa301c",
   "metadata": {},
   "source": [
    "## Author\n",
    "\n",
    "Angel Diaz "
   ]
  }
 ],
 "metadata": {
  "kernelspec": {
   "display_name": "Python 3 (ipykernel)",
   "language": "python",
   "name": "python3"
  },
  "language_info": {
   "codemirror_mode": {
    "name": "ipython",
    "version": 3
   },
   "file_extension": ".py",
   "mimetype": "text/x-python",
   "name": "python",
   "nbconvert_exporter": "python",
   "pygments_lexer": "ipython3",
   "version": "3.9.7"
  }
 },
 "nbformat": 4,
 "nbformat_minor": 5
}
